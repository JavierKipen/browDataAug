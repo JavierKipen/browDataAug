{
 "cells": [
  {
   "cell_type": "code",
   "execution_count": 3,
   "id": "8fc56d66",
   "metadata": {},
   "outputs": [],
   "source": [
    "import numpy as np\n",
    "from scipy import signal,interpolate\n",
    "import time"
   ]
  },
  {
   "cell_type": "code",
   "execution_count": 2,
   "id": "d0936ee5",
   "metadata": {},
   "outputs": [],
   "source": [
    "##Augmentations from quipu\n",
    "\n",
    "def noiseAug(xs, std = 0.1):#Noise augmentation\n",
    "    return xs + np.random.normal(0, std, xs.shape)\n",
    "\n",
    "def magnitudeAug(xs, std = 0.1):#Magnitude augmentation\n",
    "    return xs * np.abs(np.random.normal(1, std, len(xs)).reshape((-1,1)) ) \n",
    "\n",
    "def stretchAug(xs, std = 0.1, probability = 0.5,std_fill=0.08):#Stretch augmentation\n",
    "    x_new = np.copy(xs)\n",
    "    sample_len=len(x_new[1])\n",
    "    for i in range(len(xs)):\n",
    "        if np.random.rand() > 1-probability:\n",
    "            x_resampled=signal.resample(x_new[i], int(sample_len*np.random.normal(1, std))) \n",
    "            if len(x_resampled)<700:\n",
    "                x_resampled= np.append(x_resampled,np.random.normal(0, std_fill, sample_len - len(x_resampled)))\n",
    "            else:\n",
    "                x_resampled=x_resampled[:700]\n",
    "            x_new[i] = x_resampled;\n",
    "    return x_new"
   ]
  },
  {
   "cell_type": "code",
   "execution_count": 12,
   "id": "a6559bf2",
   "metadata": {},
   "outputs": [],
   "source": [
    "##Augmentations with cupy\n",
    "import cupy as cp\n",
    "import cupyx\n",
    "\n",
    "def noiseAug_gpu(xs, std = 0.1):#Noise augmentation\n",
    "    return xs + cp.random.normal(0, std, xs.shape)\n",
    "\n",
    "def magnitudeAug_gpu(xs, std = 0.1):\n",
    "    return xs * cp.abs(cp.random.normal(1, std, len(xs)).reshape((-1,1)) ) \n",
    "\n",
    "def stretchAug_gpu(xs, std = 0.1,std_fill=0.01, probability = 0.5,):\n",
    "    x_new = np.copy(xs)\n",
    "    sample_len=len(x_new[1])\n",
    "    for i in range(len(xs)):\n",
    "        if cp.random.rand() > 1-probability:\n",
    "            x_resampled=cupyx.scipy.signal.resample(x_new[i], int(sample_len*cp.random.normal(1, std))) \n",
    "            if len(x_resampled)<700:\n",
    "                x_resampled= cp.append(x_resampled,cp.random.normal(0, std_fill, sample_len - len(x_resampled)))\n",
    "            else:\n",
    "                x_resampled=x_resampled[:700]\n",
    "            x_new[i] = x_resampled;\n",
    "    return x_new"
   ]
  },
  {
   "cell_type": "code",
   "execution_count": 4,
   "id": "cd551789",
   "metadata": {},
   "outputs": [],
   "source": [
    "trace_to_use_example=np.arange(700); ##Just a trace to \n",
    "xs=np.tile(trace_to_use_example, (60000, 1));\n",
    "xs_gpu=cp.array(xs)\n",
    "def timeAndTestFnc(xs,fnc, nameFnc=\"\"):\n",
    "    start = time.time()\n",
    "    fnc(xs)\n",
    "    end = time.time()\n",
    "    print(\"Time of \"+ nameFnc + \": \"+ str(end - start))"
   ]
  },
  {
   "cell_type": "code",
   "execution_count": 13,
   "id": "2f810133",
   "metadata": {},
   "outputs": [
    {
     "name": "stdout",
     "output_type": "stream",
     "text": [
      "Time of CPU Noise Aug: 1.0989360809326172\n",
      "Time of CPU Mag Aug: 0.11512517929077148\n",
      "Time of CPU Stretch Aug: 2.1354572772979736\n",
      "Time of GPU Noise Aug: 0.0013997554779052734\n",
      "Time of GPU Mag Aug: 0.00010967254638671875\n"
     ]
    },
    {
     "ename": "AttributeError",
     "evalue": "module 'cupyx.scipy.signal' has no attribute 'resample'",
     "output_type": "error",
     "traceback": [
      "\u001b[0;31m---------------------------------------------------------------------------\u001b[0m",
      "\u001b[0;31mAttributeError\u001b[0m                            Traceback (most recent call last)",
      "Cell \u001b[0;32mIn[13], line 7\u001b[0m\n\u001b[1;32m      5\u001b[0m timeAndTestFnc(xs_gpu,noiseAug_gpu, nameFnc\u001b[38;5;241m=\u001b[39m\u001b[38;5;124m\"\u001b[39m\u001b[38;5;124mGPU Noise Aug\u001b[39m\u001b[38;5;124m\"\u001b[39m)\n\u001b[1;32m      6\u001b[0m timeAndTestFnc(xs_gpu,magnitudeAug_gpu, nameFnc\u001b[38;5;241m=\u001b[39m\u001b[38;5;124m\"\u001b[39m\u001b[38;5;124mGPU Mag Aug\u001b[39m\u001b[38;5;124m\"\u001b[39m)\n\u001b[0;32m----> 7\u001b[0m \u001b[43mtimeAndTestFnc\u001b[49m\u001b[43m(\u001b[49m\u001b[43mxs_gpu\u001b[49m\u001b[43m,\u001b[49m\u001b[43mstretchAug_gpu\u001b[49m\u001b[43m,\u001b[49m\u001b[43m \u001b[49m\u001b[43mnameFnc\u001b[49m\u001b[38;5;241;43m=\u001b[39;49m\u001b[38;5;124;43m\"\u001b[39;49m\u001b[38;5;124;43mGPU Stretch Aug\u001b[39;49m\u001b[38;5;124;43m\"\u001b[39;49m\u001b[43m)\u001b[49m\n",
      "Cell \u001b[0;32mIn[4], line 6\u001b[0m, in \u001b[0;36mtimeAndTestFnc\u001b[0;34m(xs, fnc, nameFnc)\u001b[0m\n\u001b[1;32m      4\u001b[0m \u001b[38;5;28;01mdef\u001b[39;00m \u001b[38;5;21mtimeAndTestFnc\u001b[39m(xs,fnc, nameFnc\u001b[38;5;241m=\u001b[39m\u001b[38;5;124m\"\u001b[39m\u001b[38;5;124m\"\u001b[39m):\n\u001b[1;32m      5\u001b[0m     start \u001b[38;5;241m=\u001b[39m time\u001b[38;5;241m.\u001b[39mtime()\n\u001b[0;32m----> 6\u001b[0m     \u001b[43mfnc\u001b[49m\u001b[43m(\u001b[49m\u001b[43mxs\u001b[49m\u001b[43m)\u001b[49m\n\u001b[1;32m      7\u001b[0m     end \u001b[38;5;241m=\u001b[39m time\u001b[38;5;241m.\u001b[39mtime()\n\u001b[1;32m      8\u001b[0m     \u001b[38;5;28mprint\u001b[39m(\u001b[38;5;124m\"\u001b[39m\u001b[38;5;124mTime of \u001b[39m\u001b[38;5;124m\"\u001b[39m\u001b[38;5;241m+\u001b[39m nameFnc \u001b[38;5;241m+\u001b[39m \u001b[38;5;124m\"\u001b[39m\u001b[38;5;124m: \u001b[39m\u001b[38;5;124m\"\u001b[39m\u001b[38;5;241m+\u001b[39m \u001b[38;5;28mstr\u001b[39m(end \u001b[38;5;241m-\u001b[39m start))\n",
      "Cell \u001b[0;32mIn[12], line 16\u001b[0m, in \u001b[0;36mstretchAug_gpu\u001b[0;34m(xs, std, std_fill, probability)\u001b[0m\n\u001b[1;32m     14\u001b[0m \u001b[38;5;28;01mfor\u001b[39;00m i \u001b[38;5;129;01min\u001b[39;00m \u001b[38;5;28mrange\u001b[39m(\u001b[38;5;28mlen\u001b[39m(xs)):\n\u001b[1;32m     15\u001b[0m     \u001b[38;5;28;01mif\u001b[39;00m cp\u001b[38;5;241m.\u001b[39mrandom\u001b[38;5;241m.\u001b[39mrand() \u001b[38;5;241m>\u001b[39m \u001b[38;5;241m1\u001b[39m\u001b[38;5;241m-\u001b[39mprobability:\n\u001b[0;32m---> 16\u001b[0m         x_resampled\u001b[38;5;241m=\u001b[39m\u001b[43mcupyx\u001b[49m\u001b[38;5;241;43m.\u001b[39;49m\u001b[43mscipy\u001b[49m\u001b[38;5;241;43m.\u001b[39;49m\u001b[43msignal\u001b[49m\u001b[38;5;241;43m.\u001b[39;49m\u001b[43mresample\u001b[49m(x_new[i], \u001b[38;5;28mint\u001b[39m(sample_len\u001b[38;5;241m*\u001b[39mcp\u001b[38;5;241m.\u001b[39mrandom\u001b[38;5;241m.\u001b[39mnormal(\u001b[38;5;241m1\u001b[39m, std))) \n\u001b[1;32m     17\u001b[0m         \u001b[38;5;28;01mif\u001b[39;00m \u001b[38;5;28mlen\u001b[39m(x_resampled)\u001b[38;5;241m<\u001b[39m\u001b[38;5;241m700\u001b[39m:\n\u001b[1;32m     18\u001b[0m             x_resampled\u001b[38;5;241m=\u001b[39m cp\u001b[38;5;241m.\u001b[39mappend(x_resampled,cp\u001b[38;5;241m.\u001b[39mrandom\u001b[38;5;241m.\u001b[39mnormal(\u001b[38;5;241m0\u001b[39m, std_fill, sample_len \u001b[38;5;241m-\u001b[39m \u001b[38;5;28mlen\u001b[39m(x_resampled)))\n",
      "\u001b[0;31mAttributeError\u001b[0m: module 'cupyx.scipy.signal' has no attribute 'resample'"
     ]
    }
   ],
   "source": [
    "timeAndTestFnc(xs,noiseAug, nameFnc=\"CPU Noise Aug\")\n",
    "timeAndTestFnc(xs,magnitudeAug, nameFnc=\"CPU Mag Aug\")\n",
    "timeAndTestFnc(xs,stretchAug, nameFnc=\"CPU Stretch Aug\")\n",
    "\n",
    "timeAndTestFnc(xs_gpu,noiseAug_gpu, nameFnc=\"GPU Noise Aug\")\n",
    "timeAndTestFnc(xs_gpu,magnitudeAug_gpu, nameFnc=\"GPU Mag Aug\")\n",
    "timeAndTestFnc(xs_gpu,stretchAug_gpu, nameFnc=\"GPU Stretch Aug\")"
   ]
  },
  {
   "cell_type": "code",
   "execution_count": 34,
   "id": "34d7da69",
   "metadata": {},
   "outputs": [
    {
     "ename": "AttributeError",
     "evalue": "module 'cupyx.scipy' has no attribute 'interpolate'",
     "output_type": "error",
     "traceback": [
      "\u001b[0;31m---------------------------------------------------------------------------\u001b[0m",
      "\u001b[0;31mAttributeError\u001b[0m                            Traceback (most recent call last)",
      "Cell \u001b[0;32mIn[34], line 1\u001b[0m\n\u001b[0;32m----> 1\u001b[0m \u001b[43mcupyx\u001b[49m\u001b[38;5;241;43m.\u001b[39;49m\u001b[43mscipy\u001b[49m\u001b[38;5;241;43m.\u001b[39;49m\u001b[43minterpolate\u001b[49m\n",
      "\u001b[0;31mAttributeError\u001b[0m: module 'cupyx.scipy' has no attribute 'interpolate'"
     ]
    }
   ],
   "source": [
    "cupyx.scipy.interpolate"
   ]
  }
 ],
 "metadata": {
  "kernelspec": {
   "display_name": "Python 3 (ipykernel)",
   "language": "python",
   "name": "python3"
  },
  "language_info": {
   "codemirror_mode": {
    "name": "ipython",
    "version": 3
   },
   "file_extension": ".py",
   "mimetype": "text/x-python",
   "name": "python",
   "nbconvert_exporter": "python",
   "pygments_lexer": "ipython3",
   "version": "3.8.10"
  }
 },
 "nbformat": 4,
 "nbformat_minor": 5
}
