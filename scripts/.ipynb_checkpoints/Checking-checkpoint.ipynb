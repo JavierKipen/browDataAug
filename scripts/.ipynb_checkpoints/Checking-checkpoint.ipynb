{
 "cells": [
  {
   "cell_type": "code",
   "execution_count": 24,
   "id": "92bc2f83-2bf3-4108-acdc-3428f32b91b5",
   "metadata": {},
   "outputs": [],
   "source": [
    "import pandas as pd\n",
    "import numpy as np\n",
    "import tensorflow as tf\n",
    "import os\n",
    "\n",
    "# https://stackoverflow.com/questions/66828031/do-i-always-have-to-restart-my-kernel-in-jupyter-lab-when-code-in-a-local-module"
   ]
  },
  {
   "cell_type": "code",
   "execution_count": 2,
   "id": "c519edef-ca89-4590-9ca0-9bbe8f3df005",
   "metadata": {
    "tags": []
   },
   "outputs": [],
   "source": [
    "physical_devices = tf.config.list_physical_devices('GPU')\n",
    "tf.config.set_visible_devices(physical_devices[0], 'GPU')"
   ]
  },
  {
   "cell_type": "markdown",
   "id": "1f542017-92b5-4b0b-a528-10a679b44607",
   "metadata": {
    "jp-MarkdownHeadingCollapsed": true,
    "tags": []
   },
   "source": [
    "# Dataset Generation\n",
    "The functions to manipulate the dataset allow for"
   ]
  },
  {
   "cell_type": "code",
   "execution_count": 72,
   "id": "aee4c905-a782-4f36-876b-24689f93ba43",
   "metadata": {
    "collapsed": true,
    "jupyter": {
     "outputs_hidden": true
    },
    "scrolled": true,
    "tags": []
   },
   "outputs": [
    {
     "name": "stdout",
     "output_type": "stream",
     "text": [
      "     Train  Test\n",
      "000   5769   315\n",
      "001   7665  1340\n",
      "010   2418   101\n",
      "011  14231  2378\n",
      "100    919    83\n",
      "101   7551   427\n",
      "110   6731   606\n",
      "111   6979   665\n",
      "         Train       Test\n",
      "000  94.822485   5.177515\n",
      "001  85.119378  14.880622\n",
      "010  95.990472   4.009528\n",
      "011  85.682461  14.317539\n",
      "100  91.716567   8.283433\n",
      "101  94.647781   5.352219\n",
      "110  91.740493   8.259507\n",
      "111  91.300366   8.699634\n"
     ]
    }
   ],
   "source": [
    "from DatasetFuncs import allDataset_loader,dataset_split,show_porcentages,show_partition_nanopores\n",
    "\n",
    "data_folder=\"../ext/QuipuData/\"; #path where the datasets are/will be stored\n",
    "allDatasets=allDataset_loader(data_folder) #Generates the processed df and saves it. If it is already in memory\n",
    "#then it loads it. One can specify cut=False to obtain the uncut traces (if not they are cut at 700 samples as was used in quipunet)\n",
    "\n",
    "trainSet,testSet=dataset_split(allDatasets)#Divides in train and test, in a way that the test set is within a range of\n",
    "# % of samples, and that nanopores used on train set are not used in train for the same barcode.\n",
    "samples_perc=show_porcentages(trainSet,testSet) #This verifies the percentages"
   ]
  },
  {
   "cell_type": "code",
   "execution_count": 73,
   "id": "bc3b6fe0-8a72-4d2a-bc14-453f7bb8d007",
   "metadata": {
    "collapsed": true,
    "jupyter": {
     "outputs_hidden": true
    },
    "tags": []
   },
   "outputs": [
    {
     "name": "stdout",
     "output_type": "stream",
     "text": [
      "   barcode  nanopore  size\n",
      "0      000         7  2172\n",
      "1      000         8  3498\n",
      "2      000      1017    99\n",
      "3      001         8  1737\n",
      "4      001        27  3583\n",
      "5      001        28   923\n",
      "6      001        29  1255\n",
      "7      001      1053   167\n",
      "8      010         7  1021\n",
      "9      010         9   629\n",
      "10     010        10   768\n",
      "11     011        11   362\n",
      "12     011        12   577\n",
      "13     011        31   899\n",
      "14     011        33  2192\n",
      "15     011        35   483\n",
      "16     011        36  1780\n",
      "17     011        37  1583\n",
      "18     011        38  1229\n",
      "19     011        39  1735\n",
      "20     011        40  2120\n",
      "21     011        41  1271\n",
      "22     100         7   288\n",
      "23     100        13   631\n",
      "24     101         8  1240\n",
      "25     101        26  1764\n",
      "26     101        27   924\n",
      "27     101        29  3494\n",
      "28     101      1662   129\n",
      "29     110         7  1161\n",
      "30     110         8  2702\n",
      "31     110        13  1309\n",
      "32     110        14  1559\n",
      "33     111         7   735\n",
      "34     111         8  2866\n",
      "35     111         9   677\n",
      "36     111        15  1092\n",
      "37     111        32   346\n",
      "38     111        34  1263\n",
      "   barcode  nanopore  size\n",
      "0      000         6   253\n",
      "1      000      1014    62\n",
      "2      001         7   838\n",
      "3      001        26   502\n",
      "4      010      1159   101\n",
      "5      011         6  1332\n",
      "6      011         7   702\n",
      "7      011        32   344\n",
      "8      100      1933    83\n",
      "9      101        30   427\n",
      "10     110        12   606\n",
      "11     111        14   665\n"
     ]
    }
   ],
   "source": [
    "#With this code we show which is the nanopores used for this train and test dataset\n",
    "print(show_partition_nanopores(trainSet))\n",
    "print(show_partition_nanopores(testSet))"
   ]
  },
  {
   "cell_type": "markdown",
   "id": "35a28a9c-e140-4e85-8672-06973e0939c0",
   "metadata": {},
   "source": [
    "# Testing reproducibility"
   ]
  },
  {
   "cell_type": "markdown",
   "id": "39a73b1c-b19a-4a9e-b9bb-31c1d570d94c",
   "metadata": {},
   "source": [
    "With this function we can run the training of quipu how it was done in their notebook (with n epochs=60)"
   ]
  },
  {
   "cell_type": "code",
   "execution_count": 3,
   "id": "ad775c05-80d0-4aad-9bbd-21b7cae39761",
   "metadata": {
    "collapsed": true,
    "jupyter": {
     "outputs_hidden": true
    },
    "tags": []
   },
   "outputs": [
    {
     "name": "stderr",
     "output_type": "stream",
     "text": [
      "/home/jkipen/anaconda3/envs/browDataAug/lib/python3.8/site-packages/keras/optimizer_v2/adam.py:105: UserWarning: The `lr` argument is deprecated, use `learning_rate` instead.\n",
      "  super(Adam, self).__init__(name, **kwargs)\n"
     ]
    },
    {
     "name": "stdout",
     "output_type": "stream",
     "text": [
      "=== Epoch: 0 ===\n",
      "  prep time: 3.0 sec   train time: 21.0 sec\n",
      "  loss: 1.893   acc: 0.2963   val_acc: 0.4077\n",
      "=== Epoch: 1 ===\n",
      "  prep time: 3.0 sec   train time: 17.0 sec\n",
      "  loss: 1.694   acc: 0.3553   val_acc: 0.4316\n",
      "       [ loss , accuracy ]\n",
      "Train: [1.465266466140747, 0.4333359897136688]\n",
      "Validation  : [1.4687469005584717, 0.43164435029029846]\n",
      "Test : [1.507033109664917, 0.49643704295158386]\n"
     ]
    },
    {
     "data": {
      "text/plain": [
       "(0.4333359897136688, 0.43164435029029846, 0.49643704295158386)"
      ]
     },
     "execution_count": 3,
     "metadata": {},
     "output_type": "execute_result"
    }
   ],
   "source": [
    "from ModelTrainer import ModelTrainer\n",
    "mt=ModelTrainer()\n",
    "mt.quipu_def_train(n_epochs=2)"
   ]
  },
  {
   "cell_type": "markdown",
   "id": "2161aa8d-725d-4ca1-8c11-e728f17e1f29",
   "metadata": {},
   "source": [
    "Then we did this for 20 runs and saved it in \"../results/QuipuReproduction.csv\", so when we load the datafram we can observe the accuracies and their variance."
   ]
  },
  {
   "cell_type": "code",
   "execution_count": 25,
   "id": "35f1bf26-be37-44b4-8683-0ecb9887be7b",
   "metadata": {
    "tags": []
   },
   "outputs": [],
   "source": [
    "def print_accs(all_accs): #Array that has 3 columns, train valid and test accs, each row is a model result\n",
    "    all_means=np.mean(all_accs,axis=0)\n",
    "    all_stds=np.std(all_accs,axis=0)\n",
    "    print(\"Train Acc: \" + \"{:.2f}\".format(all_means[0]*100) + \" +- \" + \"{:.2f}\".format(all_stds[0]*100) + \" % \")\n",
    "    print(\"Valid Acc: \" + \"{:.2f}\".format(all_means[1]*100) + \" +- \" + \"{:.2f}\".format(all_stds[1]*100) + \" % \")\n",
    "    print(\"Test Acc: \" + \"{:.2f}\".format(all_means[2]*100) + \" +- \" + \"{:.2f}\".format(all_stds[2]*100) + \" % \")\n",
    "    n_samples=np.shape(all_accs)[0]\n",
    "    print(\"Test Accuracy estimator: \" + \"{:.2f}\".format(all_means[2]*100) + \" +- \" + \"{:.2f}\".format(all_stds[2]*100/np.sqrt(n_samples)) + \" % \")\n",
    "\n",
    "def get_df_results_folder(folder):\n",
    "    f_count=0;\n",
    "    df_list=[]\n",
    "    for dirpath, dnames, fnames in os.walk(folder):\n",
    "        for f in fnames:\n",
    "            if f.endswith(\".csv\") and (not \"checkpoint\" in f):\n",
    "                print(f)\n",
    "                df=pd.read_csv(folder+f)\n",
    "                all_accs=df.iloc[:,:-1].values\n",
    "                all_means=np.mean(all_accs,axis=0)*100\n",
    "                all_stds=np.std(all_accs,axis=0)*100\n",
    "                n_samples=np.shape(all_accs)[0]\n",
    "                df_list.append([f,all_means[2],all_stds[2]/np.sqrt(n_samples),all_means[0],all_stds[0],all_means[1],all_stds[1]]);\n",
    "                f_count=f_count+1\n",
    "    df = pd.DataFrame(df_list, columns=[\"Name file\", \"Test mean\", \"Test mean std\",\"Train\", \"Train std\", \"Valid\",\"Valid std\"])\n",
    "    return df;"
   ]
  },
  {
   "cell_type": "code",
   "execution_count": 21,
   "id": "d6d87c5c-4f8a-434d-821d-8d09260ea182",
   "metadata": {
    "tags": []
   },
   "outputs": [
    {
     "name": "stdout",
     "output_type": "stream",
     "text": [
      "Reproduction_N1_512_N2_512.csv\n",
      "Reproduction_N1_1000_N2_1000.csv\n",
      "WBrowAug_09_N1_512_N2_512.csv\n",
      "WBrowAug_09_N1_2048_N2_1024.csv\n"
     ]
    },
    {
     "data": {
      "text/html": [
       "<div>\n",
       "<style scoped>\n",
       "    .dataframe tbody tr th:only-of-type {\n",
       "        vertical-align: middle;\n",
       "    }\n",
       "\n",
       "    .dataframe tbody tr th {\n",
       "        vertical-align: top;\n",
       "    }\n",
       "\n",
       "    .dataframe thead th {\n",
       "        text-align: right;\n",
       "    }\n",
       "</style>\n",
       "<table border=\"1\" class=\"dataframe\">\n",
       "  <thead>\n",
       "    <tr style=\"text-align: right;\">\n",
       "      <th></th>\n",
       "      <th>Name file</th>\n",
       "      <th>Test mean</th>\n",
       "      <th>Test mean std</th>\n",
       "      <th>Train</th>\n",
       "      <th>Train std</th>\n",
       "      <th>Valid</th>\n",
       "      <th>Valid std</th>\n",
       "    </tr>\n",
       "  </thead>\n",
       "  <tbody>\n",
       "    <tr>\n",
       "      <th>0</th>\n",
       "      <td>Reproduction_N1_512_N2_512.csv</td>\n",
       "      <td>88.153328</td>\n",
       "      <td>0.529545</td>\n",
       "      <td>93.526185</td>\n",
       "      <td>1.879622</td>\n",
       "      <td>92.899160</td>\n",
       "      <td>1.488911</td>\n",
       "    </tr>\n",
       "    <tr>\n",
       "      <th>1</th>\n",
       "      <td>Reproduction_N1_1000_N2_1000.csv</td>\n",
       "      <td>92.836885</td>\n",
       "      <td>0.328662</td>\n",
       "      <td>97.652759</td>\n",
       "      <td>0.270256</td>\n",
       "      <td>96.201223</td>\n",
       "      <td>0.482746</td>\n",
       "    </tr>\n",
       "    <tr>\n",
       "      <th>2</th>\n",
       "      <td>WBrowAug_09_N1_512_N2_512.csv</td>\n",
       "      <td>87.007103</td>\n",
       "      <td>0.605504</td>\n",
       "      <td>93.107564</td>\n",
       "      <td>1.160031</td>\n",
       "      <td>92.776880</td>\n",
       "      <td>1.148343</td>\n",
       "    </tr>\n",
       "    <tr>\n",
       "      <th>3</th>\n",
       "      <td>WBrowAug_09_N1_2048_N2_1024.csv</td>\n",
       "      <td>92.466036</td>\n",
       "      <td>0.415098</td>\n",
       "      <td>96.596867</td>\n",
       "      <td>0.140547</td>\n",
       "      <td>95.753147</td>\n",
       "      <td>0.408163</td>\n",
       "    </tr>\n",
       "  </tbody>\n",
       "</table>\n",
       "</div>"
      ],
      "text/plain": [
       "                          Name file  Test mean  Test mean std      Train  \\\n",
       "0    Reproduction_N1_512_N2_512.csv  88.153328       0.529545  93.526185   \n",
       "1  Reproduction_N1_1000_N2_1000.csv  92.836885       0.328662  97.652759   \n",
       "2     WBrowAug_09_N1_512_N2_512.csv  87.007103       0.605504  93.107564   \n",
       "3   WBrowAug_09_N1_2048_N2_1024.csv  92.466036       0.415098  96.596867   \n",
       "\n",
       "   Train std      Valid  Valid std  \n",
       "0   1.879622  92.899160   1.488911  \n",
       "1   0.270256  96.201223   0.482746  \n",
       "2   1.160031  92.776880   1.148343  \n",
       "3   0.140547  95.753147   0.408163  "
      ]
     },
     "execution_count": 21,
     "metadata": {},
     "output_type": "execute_result"
    }
   ],
   "source": [
    "get_df_results_folder(\"../results/TrainingAsQuipu/\")"
   ]
  },
  {
   "cell_type": "code",
   "execution_count": 26,
   "id": "b740a78e-cd8b-4f89-918e-83be1276da92",
   "metadata": {
    "tags": []
   },
   "outputs": [
    {
     "name": "stdout",
     "output_type": "stream",
     "text": [
      "Reproduction_N1_512_N2_512.csv\n",
      "Reproduction_N1_2048_N2_1024.csv\n",
      "WBrowAug_090_N1_2048_N2_1024.csv\n",
      "WBrowAug_090_N1_512_N2_512.csv\n",
      "WBrowAug_090_N1_2048_N2_1024_again.csv\n",
      "Reproduction_N1_2048_N2_1024_again.csv\n"
     ]
    },
    {
     "data": {
      "text/html": [
       "<div>\n",
       "<style scoped>\n",
       "    .dataframe tbody tr th:only-of-type {\n",
       "        vertical-align: middle;\n",
       "    }\n",
       "\n",
       "    .dataframe tbody tr th {\n",
       "        vertical-align: top;\n",
       "    }\n",
       "\n",
       "    .dataframe thead th {\n",
       "        text-align: right;\n",
       "    }\n",
       "</style>\n",
       "<table border=\"1\" class=\"dataframe\">\n",
       "  <thead>\n",
       "    <tr style=\"text-align: right;\">\n",
       "      <th></th>\n",
       "      <th>Name file</th>\n",
       "      <th>Test mean</th>\n",
       "      <th>Test mean std</th>\n",
       "      <th>Train</th>\n",
       "      <th>Train std</th>\n",
       "      <th>Valid</th>\n",
       "      <th>Valid std</th>\n",
       "    </tr>\n",
       "  </thead>\n",
       "  <tbody>\n",
       "    <tr>\n",
       "      <th>0</th>\n",
       "      <td>Reproduction_N1_512_N2_512.csv</td>\n",
       "      <td>92.530366</td>\n",
       "      <td>0.165775</td>\n",
       "      <td>98.866770</td>\n",
       "      <td>0.412448</td>\n",
       "      <td>96.285074</td>\n",
       "      <td>0.320209</td>\n",
       "    </tr>\n",
       "    <tr>\n",
       "      <th>1</th>\n",
       "      <td>Reproduction_N1_2048_N2_1024.csv</td>\n",
       "      <td>92.793956</td>\n",
       "      <td>0.182575</td>\n",
       "      <td>98.912258</td>\n",
       "      <td>0.466596</td>\n",
       "      <td>96.392705</td>\n",
       "      <td>0.329265</td>\n",
       "    </tr>\n",
       "    <tr>\n",
       "      <th>2</th>\n",
       "      <td>WBrowAug_090_N1_2048_N2_1024.csv</td>\n",
       "      <td>93.148480</td>\n",
       "      <td>0.175979</td>\n",
       "      <td>98.138564</td>\n",
       "      <td>0.337926</td>\n",
       "      <td>96.199989</td>\n",
       "      <td>0.289616</td>\n",
       "    </tr>\n",
       "    <tr>\n",
       "      <th>3</th>\n",
       "      <td>WBrowAug_090_N1_512_N2_512.csv</td>\n",
       "      <td>92.305498</td>\n",
       "      <td>0.172442</td>\n",
       "      <td>97.322122</td>\n",
       "      <td>0.393818</td>\n",
       "      <td>95.630905</td>\n",
       "      <td>0.374171</td>\n",
       "    </tr>\n",
       "    <tr>\n",
       "      <th>4</th>\n",
       "      <td>WBrowAug_090_N1_2048_N2_1024_again.csv</td>\n",
       "      <td>93.050807</td>\n",
       "      <td>0.155980</td>\n",
       "      <td>98.145452</td>\n",
       "      <td>0.367531</td>\n",
       "      <td>96.172914</td>\n",
       "      <td>0.262840</td>\n",
       "    </tr>\n",
       "    <tr>\n",
       "      <th>5</th>\n",
       "      <td>Reproduction_N1_2048_N2_1024_again.csv</td>\n",
       "      <td>92.489252</td>\n",
       "      <td>0.161634</td>\n",
       "      <td>98.923574</td>\n",
       "      <td>0.396808</td>\n",
       "      <td>96.339467</td>\n",
       "      <td>0.256670</td>\n",
       "    </tr>\n",
       "  </tbody>\n",
       "</table>\n",
       "</div>"
      ],
      "text/plain": [
       "                                Name file  Test mean  Test mean std  \\\n",
       "0          Reproduction_N1_512_N2_512.csv  92.530366       0.165775   \n",
       "1        Reproduction_N1_2048_N2_1024.csv  92.793956       0.182575   \n",
       "2        WBrowAug_090_N1_2048_N2_1024.csv  93.148480       0.175979   \n",
       "3          WBrowAug_090_N1_512_N2_512.csv  92.305498       0.172442   \n",
       "4  WBrowAug_090_N1_2048_N2_1024_again.csv  93.050807       0.155980   \n",
       "5  Reproduction_N1_2048_N2_1024_again.csv  92.489252       0.161634   \n",
       "\n",
       "       Train  Train std      Valid  Valid std  \n",
       "0  98.866770   0.412448  96.285074   0.320209  \n",
       "1  98.912258   0.466596  96.392705   0.329265  \n",
       "2  98.138564   0.337926  96.199989   0.289616  \n",
       "3  97.322122   0.393818  95.630905   0.374171  \n",
       "4  98.145452   0.367531  96.172914   0.262840  \n",
       "5  98.923574   0.396808  96.339467   0.256670  "
      ]
     },
     "execution_count": 26,
     "metadata": {},
     "output_type": "execute_result"
    }
   ],
   "source": [
    "get_df_results_folder(\"../results/TrainingWithES/\")"
   ]
  },
  {
   "cell_type": "code",
   "execution_count": 27,
   "id": "8ebcebcf-1f83-4e13-a2d0-57a2ba8093d0",
   "metadata": {
    "tags": []
   },
   "outputs": [
    {
     "name": "stdout",
     "output_type": "stream",
     "text": [
      "Train Acc: 98.92 +- 0.43 % \n",
      "Valid Acc: 96.37 +- 0.30 % \n",
      "Test Acc: 92.64 +- 1.73 % \n",
      "Test Accuracy estimator: 92.64 +- 0.12 % \n",
      "Train Acc: 98.14 +- 0.35 % \n",
      "Valid Acc: 96.19 +- 0.28 % \n",
      "Test Acc: 93.10 +- 1.66 % \n",
      "Test Accuracy estimator: 93.10 +- 0.12 % \n"
     ]
    }
   ],
   "source": [
    "dfrepBig1=pd.read_csv(\"../results/TrainingWithES/Reproduction_N1_2048_N2_1024.csv\")\n",
    "dfrepBig2=pd.read_csv(\"../results/TrainingWithES/Reproduction_N1_2048_N2_1024_again.csv\")\n",
    "dfrepBigWhole=pd.concat([dfrepBig1, dfrepBig2])\n",
    "print_accs(dfrepBigWhole.iloc[:,:-1].values)\n",
    "\n",
    "dfrepBig1=pd.read_csv(\"../results/TrainingWithES/WBrowAug_090_N1_2048_N2_1024.csv\")\n",
    "dfrepBig2=pd.read_csv(\"../results/TrainingWithES/WBrowAug_090_N1_2048_N2_1024_again.csv\")\n",
    "dfrepBigWhole=pd.concat([dfrepBig1, dfrepBig2])\n",
    "print_accs(dfrepBigWhole.iloc[:,:-1].values)"
   ]
  },
  {
   "cell_type": "markdown",
   "id": "deb6d6a9-155d-49e3-aaa2-fcc9e5126e48",
   "metadata": {
    "tags": []
   },
   "source": [
    "## Table that will be used in the paper"
   ]
  },
  {
   "cell_type": "code",
   "execution_count": 34,
   "id": "e4427fad-fac2-425b-99e4-5906098b4ff4",
   "metadata": {
    "tags": []
   },
   "outputs": [],
   "source": [
    "def get_est_accs(all_accs_runs): ##Functions to generate the DF beter\n",
    "    all_means=np.mean(all_accs_runs,axis=0)\n",
    "    n_samples=np.shape(all_accs_runs)[0]\n",
    "    all_stds=np.std(all_accs_runs,axis=0)\n",
    "    all_stds=all_stds/np.sqrt(n_samples);\n",
    "    train_acc=all_means[0];train_acc_std=all_stds[0];\n",
    "    valid_acc=all_means[1];valid_acc_std=all_stds[1];\n",
    "    test_acc=all_means[2];test_acc_std=all_stds[2];\n",
    "    return train_acc,train_acc_std, valid_acc, valid_acc_std, test_acc, test_acc_std;\n",
    "def gen_list_for_df(name,use_brow,n_dense_1,n_dense_2,df_accs):\n",
    "    train_acc,train_acc_std, valid_acc, valid_acc_std, test_acc, test_acc_std= get_est_accs(df_accs.iloc[:,:-1].values)\n",
    "    ret_list=[name,use_brow,n_dense_1,n_dense_2,train_acc*100,train_acc_std*100, valid_acc*100, valid_acc_std*100, test_acc*100, test_acc_std*100]\n",
    "    return ret_list;"
   ]
  },
  {
   "cell_type": "code",
   "execution_count": 41,
   "id": "346b3738-6a10-4dde-9a24-21ff41e05dd3",
   "metadata": {
    "tags": []
   },
   "outputs": [
    {
     "data": {
      "text/html": [
       "<div>\n",
       "<style scoped>\n",
       "    .dataframe tbody tr th:only-of-type {\n",
       "        vertical-align: middle;\n",
       "    }\n",
       "\n",
       "    .dataframe tbody tr th {\n",
       "        vertical-align: top;\n",
       "    }\n",
       "\n",
       "    .dataframe thead th {\n",
       "        text-align: right;\n",
       "    }\n",
       "</style>\n",
       "<table border=\"1\" class=\"dataframe\">\n",
       "  <thead>\n",
       "    <tr style=\"text-align: right;\">\n",
       "      <th></th>\n",
       "      <th>Name</th>\n",
       "      <th>Brow Aug</th>\n",
       "      <th>N dense 1</th>\n",
       "      <th>N dense 2</th>\n",
       "      <th>Train</th>\n",
       "      <th>Train std</th>\n",
       "      <th>Valid</th>\n",
       "      <th>Valid std</th>\n",
       "      <th>Test</th>\n",
       "      <th>Test std</th>\n",
       "    </tr>\n",
       "  </thead>\n",
       "  <tbody>\n",
       "    <tr>\n",
       "      <th>0</th>\n",
       "      <td>Quipu</td>\n",
       "      <td>No</td>\n",
       "      <td>512</td>\n",
       "      <td>512</td>\n",
       "      <td>98.87</td>\n",
       "      <td>0.04</td>\n",
       "      <td>96.29</td>\n",
       "      <td>0.03</td>\n",
       "      <td>92.53</td>\n",
       "      <td>0.17</td>\n",
       "    </tr>\n",
       "    <tr>\n",
       "      <th>1</th>\n",
       "      <td>Quipu</td>\n",
       "      <td>Yes</td>\n",
       "      <td>512</td>\n",
       "      <td>512</td>\n",
       "      <td>97.32</td>\n",
       "      <td>0.04</td>\n",
       "      <td>95.63</td>\n",
       "      <td>0.04</td>\n",
       "      <td>92.31</td>\n",
       "      <td>0.17</td>\n",
       "    </tr>\n",
       "    <tr>\n",
       "      <th>2</th>\n",
       "      <td>Quipu Ext</td>\n",
       "      <td>No</td>\n",
       "      <td>2048</td>\n",
       "      <td>1024</td>\n",
       "      <td>98.92</td>\n",
       "      <td>0.03</td>\n",
       "      <td>96.37</td>\n",
       "      <td>0.02</td>\n",
       "      <td>92.64</td>\n",
       "      <td>0.12</td>\n",
       "    </tr>\n",
       "    <tr>\n",
       "      <th>3</th>\n",
       "      <td>Quipu Ext</td>\n",
       "      <td>Yes</td>\n",
       "      <td>2048</td>\n",
       "      <td>1024</td>\n",
       "      <td>98.14</td>\n",
       "      <td>0.02</td>\n",
       "      <td>96.19</td>\n",
       "      <td>0.02</td>\n",
       "      <td>93.10</td>\n",
       "      <td>0.12</td>\n",
       "    </tr>\n",
       "  </tbody>\n",
       "</table>\n",
       "</div>"
      ],
      "text/plain": [
       "        Name Brow Aug N dense 1 N dense 2  Train  Train std  Valid  Valid std  \\\n",
       "0      Quipu       No       512       512  98.87       0.04  96.29       0.03   \n",
       "1      Quipu      Yes       512       512  97.32       0.04  95.63       0.04   \n",
       "2  Quipu Ext       No      2048      1024  98.92       0.03  96.37       0.02   \n",
       "3  Quipu Ext      Yes      2048      1024  98.14       0.02  96.19       0.02   \n",
       "\n",
       "   Test  Test std  \n",
       "0 92.53      0.17  \n",
       "1 92.31      0.17  \n",
       "2 92.64      0.12  \n",
       "3 93.10      0.12  "
      ]
     },
     "execution_count": 41,
     "metadata": {},
     "output_type": "execute_result"
    }
   ],
   "source": [
    "path_res=\"../results/TrainingWithES/\";\n",
    "df_list=[];#List where we will gather all results to transform into df.\n",
    "\n",
    "dfrep=pd.read_csv(path_res+\"Reproduction_N1_512_N2_512.csv\")\n",
    "df_list.append(gen_list_for_df(\"Quipu\", \"No\", \"512\",\"512\",dfrep))\n",
    "\n",
    "dfBrow=pd.read_csv(path_res+\"WBrowAug_090_N1_512_N2_512.csv\")\n",
    "df_list.append(gen_list_for_df(\"Quipu\", \"Yes\", \"512\",\"512\",dfBrow))\n",
    "\n",
    "dfrepBig1=pd.read_csv(path_res+\"Reproduction_N1_2048_N2_1024.csv\")\n",
    "dfrepBig2=pd.read_csv(path_res+\"Reproduction_N1_2048_N2_1024_again.csv\")\n",
    "dfrepBigWhole=pd.concat([dfrepBig1, dfrepBig2])\n",
    "df_list.append(gen_list_for_df(\"Quipu Ext\", \"No\", \"2048\",\"1024\",dfrepBigWhole))\n",
    "               \n",
    "dfBrowBig1=pd.read_csv(path_res+\"WBrowAug_090_N1_2048_N2_1024.csv\")\n",
    "dfBrowBig2=pd.read_csv(path_res+\"WBrowAug_090_N1_2048_N2_1024_again.csv\")\n",
    "dfBrowBigWhole=pd.concat([dfBrowBig1, dfBrowBig2])\n",
    "df_list.append(gen_list_for_df(\"Quipu Ext\", \"Yes\", \"2048\",\"1024\",dfBrowBigWhole))\n",
    "\n",
    "\n",
    "columns=[\"Name\", \"Brow Aug\", \"N dense 1\",\"N dense 2\", \"Train\", \"Train std\", \"Valid\",\"Valid std\",\"Test\", \"Test std\"]\n",
    "df_res = pd.DataFrame(df_list,columns=columns)\n",
    "pd.options.display.float_format = '{:,.2f}'.format;\n",
    "df_res"
   ]
  },
  {
   "cell_type": "markdown",
   "id": "f8a2ed3d-3020-4b64-a959-cd008c4a3ea5",
   "metadata": {},
   "source": [
    "### P-value tests"
   ]
  },
  {
   "cell_type": "markdown",
   "id": "a121f1ce-b23f-46c6-ad62-243bb6deeb45",
   "metadata": {},
   "source": [
    "Null hypothesis: Quipu with the extended Neural Netowrks at the end has the same test accuracy when using or not using brownian augmentation. \n",
    "\n",
    "If we name $T_i$ the test of running one brownian aug train and one without, $T_i$ is 1 when brownian aug training has a higher accuracy than the other, if not then 0. Assuming our null hypothesis is true, then this $T_i$ would be equally probable with 1 or 0. Therefore $\\mu_T=0.5$ and $\\sigma^2_T=0.25$. \n",
    "\n",
    "When we do many tests $T_i$ the central theory of limit can be used and approximate the sum pdf as a gaussian distribution. If we name as $N$ the number of tests, then the distribution assuming our hypothesis true is given by $u=\\frac{1}{N}\\sum T_i \\sim  G(\\mu_T,\\frac{\\sigma^2_T}{N}) $"
   ]
  },
  {
   "cell_type": "code",
   "execution_count": 59,
   "id": "ef5669a9-9be0-4538-a8ce-5877a14b8a88",
   "metadata": {
    "tags": []
   },
   "outputs": [
    {
     "name": "stdout",
     "output_type": "stream",
     "text": [
      "The obtained p-value is: 0.81%. This value is significant to reject the null hypothesis and validate that the brownian augmentation has a better test accuracy!\n"
     ]
    }
   ],
   "source": [
    "from scipy.stats import norm\n",
    "mu_t=0.5;std_t=0.5;\n",
    "T_i=dfBrowBigWhole[\"Test Acc\"].values>dfrepBigWhole[\"Test Acc\"].values\n",
    "N=len(T_i);\n",
    "avg_test=np.sum(T_i)/len(T_i)\n",
    "std_final= std_t/np.sqrt(N);\n",
    "z_score=(avg_test-mu_t)/std_final;\n",
    "p_value=1-norm.cdf(z_score); #P(u>\\hat) |\\mu_T,\\sigma_T) Given the null hypothesis, what was the probability of the obtained results or worse!\n",
    "print(\"The obtained p-value is: \" + \"{:.2f}\".format(p_value*100) + \"%. This value is significant to reject the null hypothesis and validate that the brownian augmentation has a better test accuracy!\")"
   ]
  },
  {
   "cell_type": "markdown",
   "id": "5c9b3202-c8c0-4c5c-9baa-7349300dcb97",
   "metadata": {},
   "source": [
    "### Probability of increased test accuracy "
   ]
  },
  {
   "cell_type": "markdown",
   "id": "2bfbc448-1ed1-4a85-9421-f9fc269f570a",
   "metadata": {},
   "source": [
    "If define the test accuracy when trained normally as $t$ and the test accuracy with brow aug in training as $t_a$, then we can define the random variable difference as $d_i=t_a-t$. We can approximate its distribution with a gaussian $G(\\mu_D,\\sigma_D)$. Then we can estimate the mean as ${\\hat{\\mu}}_D=\\frac{1}{N} \\sum d_i$ and calculate what is the probability that  $P({\\hat{\\mu}}_D>0)$, which means that an increment in test accuracy is expected due to the augmentation"
   ]
  },
  {
   "cell_type": "code",
   "execution_count": 72,
   "id": "0029968a-0912-48fd-8753-9e645f7fab14",
   "metadata": {
    "tags": []
   },
   "outputs": [
    {
     "name": "stdout",
     "output_type": "stream",
     "text": [
      "The probability that the difference is higher than zero is 99.79%\n",
      "The pdf of d has a mean of 0.46% and a std of 0.16%\n"
     ]
    },
    {
     "data": {
      "text/plain": [
       "(array([ 2.,  8., 19., 30., 33., 44., 21., 30.,  8.,  5.]),\n",
       " array([-5.51176071, -4.35056806, -3.1893754 , -2.02818274, -0.86699009,\n",
       "         0.29420257,  1.45539522,  2.61658788,  3.77778053,  4.93897319,\n",
       "         6.10016584]),\n",
       " <BarContainer object of 10 artists>)"
      ]
     },
     "execution_count": 72,
     "metadata": {},
     "output_type": "execute_result"
    },
    {
     "data": {
      "image/png": "[encoded data removed]",
      "text/plain": [
       "<Figure size 640x480 with 1 Axes>"
      ]
     },
     "metadata": {},
     "output_type": "display_data"
    }
   ],
   "source": [
    "import matplotlib.pyplot as plt\n",
    "D=dfBrowBigWhole[\"Test Acc\"].values-dfrepBigWhole[\"Test Acc\"].values\n",
    "N=len(D);\n",
    "mu_d_est=np.mean(D);\n",
    "std_d_est= np.std(D)/np.sqrt(N);\n",
    "prob=1-norm.cdf((0-mu_d_est)/std_d_est); #P(mu_d>=0);\n",
    "print(\"The probability that the difference is higher than zero is \" +\"{:.2f}\".format(prob*100) + \"%\" )\n",
    "\n",
    "print(\"The mean estimator of d has a mean of \" +\"{:.2f}\".format(mu_d_est*100) + \"% and a std of \" +\"{:.2f}\".format(std_d_est*100) + \"%\")\n",
    "plt.hist(D*100)"
   ]
  },
  {
   "cell_type": "markdown",
   "id": "5f47f9b1-e05d-47f9-bef6-5b132a5d7da0",
   "metadata": {},
   "source": [
    "## To check if we can remove it. Old used to debug"
   ]
  },
  {
   "cell_type": "code",
   "execution_count": 62,
   "id": "f52dfd44-b1f9-4114-b846-df51cd8604b4",
   "metadata": {
    "tags": []
   },
   "outputs": [
    {
     "data": {
      "text/plain": [
       "2.858541270583974"
      ]
     },
     "execution_count": 62,
     "metadata": {},
     "output_type": "execute_result"
    }
   ],
   "source": [
    "(mu_d_est-0)/std_d_est"
   ]
  },
  {
   "cell_type": "code",
   "execution_count": 3,
   "id": "77a4f544-e47a-47df-8fb9-0c5b827b2b85",
   "metadata": {
    "tags": []
   },
   "outputs": [
    {
     "ename": "<class 'TypeError'>",
     "evalue": "'tuple' object cannot be interpreted as an integer",
     "output_type": "error",
     "traceback": [
      "\u001b[0;31m---------------------------------------------------------------------------\u001b[0m",
      "\u001b[0;31mTypeError\u001b[0m                                 Traceback (most recent call last)",
      "Cell \u001b[0;32mIn[3], line 7\u001b[0m\n\u001b[1;32m      5\u001b[0m X_train,X_valid,Y_train,Y_valid,X_test,Y_test\u001b[38;5;241m=\u001b[39mdl\u001b[38;5;241m.\u001b[39mget_datasets_numpy();\n\u001b[1;32m      6\u001b[0m da\u001b[38;5;241m=\u001b[39mDataAugmentator();\n\u001b[0;32m----> 7\u001b[0m out\u001b[38;5;241m=\u001b[39mda\u001b[38;5;241m.\u001b[39mtest_brow_aug(X_train)\n",
      "File \u001b[0;32m~/browDataAug/scripts/DataAugmentator.py:46\u001b[0m, in \u001b[0;36mDataAugmentator.test_brow_aug\u001b[0;34m(self, X_train)\u001b[0m\n\u001b[1;32m     44\u001b[0m \u001b[38;5;28;01mdef\u001b[39;00m \u001b[38;5;21mtest_brow_aug\u001b[39m(\u001b[38;5;28mself\u001b[39m,X_train):\n\u001b[1;32m     45\u001b[0m     X \u001b[38;5;241m=\u001b[39m copy\u001b[38;5;241m.\u001b[39mdeepcopy(X_train) \u001b[38;5;66;03m# make copies\u001b[39;00m\n\u001b[0;32m---> 46\u001b[0m     noise\u001b[38;5;241m=\u001b[39m\u001b[43mnp\u001b[49m\u001b[38;5;241;43m.\u001b[39;49m\u001b[43mrandom\u001b[49m\u001b[38;5;241;43m.\u001b[39;49m\u001b[43mrandn\u001b[49m\u001b[43m(\u001b[49m\u001b[43mnp\u001b[49m\u001b[38;5;241;43m.\u001b[39;49m\u001b[43mshape\u001b[49m\u001b[43m(\u001b[49m\u001b[43mX_train\u001b[49m\u001b[43m)\u001b[49m\u001b[43m)\u001b[49m\u001b[38;5;241m*\u001b[39m\u001b[38;5;28mself\u001b[39m\u001b[38;5;241m.\u001b[39mbrow_std;\n\u001b[1;32m     47\u001b[0m     data_out,ev_len_out\u001b[38;5;241m=\u001b[39m \u001b[38;5;28mself\u001b[39m\u001b[38;5;241m.\u001b[39mbrowAug(data_in\u001b[38;5;241m=\u001b[39mev_data_array,noise\u001b[38;5;241m=\u001b[39mnoise)\n\u001b[1;32m     48\u001b[0m     data_out\u001b[38;5;241m=\u001b[39mdata_out\u001b[38;5;241m.\u001b[39mnumpy();\n",
      "File \u001b[0;32mmtrand.pyx:1270\u001b[0m, in \u001b[0;36mnumpy.random.mtrand.RandomState.randn\u001b[0;34m()\u001b[0m\n",
      "File \u001b[0;32mmtrand.pyx:1431\u001b[0m, in \u001b[0;36mnumpy.random.mtrand.RandomState.standard_normal\u001b[0;34m()\u001b[0m\n",
      "File \u001b[0;32m_common.pyx:636\u001b[0m, in \u001b[0;36mnumpy.random._common.cont\u001b[0;34m()\u001b[0m\n",
      "\u001b[0;31mTypeError\u001b[0m: 'tuple' object cannot be interpreted as an integer"
     ]
    }
   ],
   "source": [
    "from DataLoader import DataLoader\n",
    "from DataAugmentator import DataAugmentator\n",
    "dl=DataLoader();\n",
    "#X_train,X_valid,Y_train,Y_valid,X_test,Y_test=dl.get_datasets_numpy_quipu();\n",
    "X_train,X_valid,Y_train,Y_valid,X_test,Y_test=dl.get_datasets_numpy();\n",
    "da=DataAugmentator();\n",
    "out=da.test_brow_aug(X_train);"
   ]
  },
  {
   "cell_type": "code",
   "execution_count": null,
   "id": "39e06962-9d4c-405c-98c6-90e21c1c7a49",
   "metadata": {},
   "outputs": [],
   "source": []
  }
 ],
 "metadata": {
  "kernelspec": {
   "display_name": "Python 3 (ipykernel)",
   "language": "python",
   "name": "python3"
  },
  "language_info": {
   "codemirror_mode": {
    "name": "ipython",
    "version": 3
   },
   "file_extension": ".py",
   "mimetype": "text/x-python",
   "name": "python",
   "nbconvert_exporter": "python",
   "pygments_lexer": "ipython3",
   "version": "3.8.17"
  }
 },
 "nbformat": 4,
 "nbformat_minor": 5
}
