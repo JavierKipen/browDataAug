{
 "cells": [
  {
   "cell_type": "code",
   "execution_count": 1,
   "id": "8f86a2e7",
   "metadata": {},
   "outputs": [],
   "source": [
    "import pandas as pd\n",
    "import numpy as np\n",
    "import os\n",
    "import copy"
   ]
  },
  {
   "cell_type": "markdown",
   "id": "6c6408c9",
   "metadata": {},
   "source": [
    "# Analysis of the results in reproduction\n",
    "\n",
    "Here in this notebook we analyze the results obtained for reproduction part\n"
   ]
  },
  {
   "cell_type": "markdown",
   "id": "4a6de7af",
   "metadata": {},
   "source": [
    "   # Quipu reproduction same test set\n",
    "   \n",
    "   In this section we reproduced the training of quipu with the same test set to obtain the same results. We used weighting of the classes as they do in their notebook. We use the augmentation that they show in their notebook, and the decaying learning rate which they mention. In addition we use the same amount of data for the split in training and validation. A contradiction is that in their notebook they train for 60 epochs, and in the paper they mention 200 epochs, so we did both and the results are the following:"
   ]
  },
  {
   "cell_type": "code",
   "execution_count": 12,
   "id": "8b8b2689",
   "metadata": {},
   "outputs": [],
   "source": [
    "results_folder=\"../../results/Reproduction/\"\n",
    "results_folder_QuipuNb=results_folder+\"QuipuAsNotebook/\"\n",
    "results_folder_QuipuOpt=results_folder+\"QuipuOptRepr/\"\n",
    "def get_df_results_folder(folder,string_match=\"\"):\n",
    "    df_list=[]\n",
    "    for dirpath, dnames, fnames in os.walk(folder):\n",
    "        for f in fnames:\n",
    "            if f.endswith(\".csv\") and (string_match in f):\n",
    "                #print(f)\n",
    "                df=pd.read_csv(folder+f)\n",
    "                [train,valid,test]=df.iloc[0,:].values\n",
    "                df_list.append([train,valid,test]);\n",
    "    df = pd.DataFrame(df_list, columns=[\"Train accuracy\", \"Valid accuracy\", \"Test Accuracy\"])\n",
    "    return df;\n",
    "def get_stats(df):\n",
    "    all_accs=df.iloc[:,:].to_numpy();\n",
    "    n_samples=len(df);\n",
    "    all_means=np.mean(all_accs,axis=0)\n",
    "    all_maxs=np.max(all_accs,axis=0)\n",
    "    all_stds=np.std(all_accs,axis=0)/np.sqrt(n_samples);\n",
    "    train_acc=all_means[0];train_acc_std=all_stds[0];train_acc_max=all_maxs[0];\n",
    "    valid_acc=all_means[1];valid_acc_std=all_stds[1];valid_acc_max=all_maxs[1];\n",
    "    test_acc=all_means[2];test_acc_std=all_stds[2];test_acc_max=all_maxs[2];\n",
    "    return train_acc,train_acc_std,train_acc_max,valid_acc,valid_acc_std,valid_acc_max,test_acc,test_acc_std,test_acc_max,n_samples"
   ]
  },
  {
   "cell_type": "code",
   "execution_count": 14,
   "id": "95b270eb",
   "metadata": {},
   "outputs": [],
   "source": [
    "df_Qnb_60=get_df_results_folder(results_folder_QuipuNb,string_match=\"Ne_60\")\n",
    "df_Qnb_200=get_df_results_folder(results_folder_QuipuNb,string_match=\"Ne_200\")\n",
    "df_QOpt_100=get_df_results_folder(results_folder_QuipuOpt,string_match=\"Ne_100\")"
   ]
  },
  {
   "cell_type": "code",
   "execution_count": 15,
   "id": "1358bff3",
   "metadata": {},
   "outputs": [
    {
     "name": "stdout",
     "output_type": "stream",
     "text": [
      "(0.9264235326633361, 0.0022688562329030936, 0.9639980792999268, 0.9190528844865624, 0.0021517213685646026, 0.9588853120803832, 0.890586124814075, 0.002737125215724214, 0.9266743659973145, 207)\n",
      "(0.9462802221900538, 0.0032074860530442906, 0.9631603956222534, 0.935274462950857, 0.0035552211297672754, 0.9556875228881836, 0.9151574028165717, 0.004083219450988392, 0.9304272532463074, 19)\n",
      "(0.9940719652449947, 0.00018533052699589713, 0.9967198371887208, 0.9655046428757152, 0.0001978269018331078, 0.971254587173462, 0.9404482211189709, 0.0003762878077779452, 0.9465935230255128, 87)\n"
     ]
    }
   ],
   "source": [
    "print(get_stats(df_Qnb_60))\n",
    "print(get_stats(df_Qnb_200))\n",
    "print(get_stats(df_QOpt_100))"
   ]
  }
 ],
 "metadata": {
  "kernelspec": {
   "display_name": "Python 3 (ipykernel)",
   "language": "python",
   "name": "python3"
  },
  "language_info": {
   "codemirror_mode": {
    "name": "ipython",
    "version": 3
   },
   "file_extension": ".py",
   "mimetype": "text/x-python",
   "name": "python",
   "nbconvert_exporter": "python",
   "pygments_lexer": "ipython3",
   "version": "3.8.10"
  }
 },
 "nbformat": 4,
 "nbformat_minor": 5
}
